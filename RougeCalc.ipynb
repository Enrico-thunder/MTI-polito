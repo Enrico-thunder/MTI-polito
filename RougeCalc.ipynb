{
  "cells": [
    {
      "cell_type": "markdown",
      "metadata": {
        "id": "view-in-github",
        "colab_type": "text"
      },
      "source": [
        "<a href=\"https://colab.research.google.com/github/Enrico-thunder/MTI-polito/blob/main/RougeCalc.ipynb\" target=\"_parent\"><img src=\"https://colab.research.google.com/assets/colab-badge.svg\" alt=\"Open In Colab\"/></a>"
      ]
    },
    {
      "cell_type": "code",
      "execution_count": 1,
      "metadata": {
        "colab": {
          "base_uri": "https://localhost:8080/"
        },
        "id": "n8FprdlI7lRq",
        "outputId": "04a06d7f-5e49-4f92-b9e4-58ee99092ef2"
      },
      "outputs": [
        {
          "output_type": "stream",
          "name": "stdout",
          "text": [
            "Mounted at /content/drive\n",
            "/content/drive/MyDrive/Colab Notebooks\n",
            "/content/drive/MyDrive/Colab Notebooks/Extractive_Research_Slide_Generation_Using_Windowed_Labeling_Ranking/data\n"
          ]
        }
      ],
      "source": [
        "from google.colab import drive \n",
        "drive.mount('/content/drive', force_remount=True) \n",
        "%cd /content/drive/MyDrive/Colab\\ Notebooks \n",
        "%cd Extractive_Research_Slide_Generation_Using_Windowed_Labeling_Ranking/data"
      ]
    },
    {
      "cell_type": "code",
      "execution_count": null,
      "metadata": {
        "id": "SMQSEFTo7njk"
      },
      "outputs": [],
      "source": [
        "#per motivi di compatibilità tutti gli step sono necessari\n",
        "\n",
        "!sudo apt-get install perl\n",
        "!sudo apt-get install libxml-parser-perl \n",
        "!pip install https://github.com/bheinzerling/pyrouge/archive/master.zip \n",
        "!pyrouge_set_rouge_path 'pyrouge/tools/ROUGE-1.5.5' \n",
        "pip install pyrouge\n",
        "#!pip show pyrouge\n",
        "!git clone https://github.com/andersjo/pyrouge.git\n",
        "from pyrouge import Rouge155\n",
        "\n",
        "!chmod +rwx pyrouge/tools/ROUGE-1.5.5/ROUGE-1.5.5.pl \n",
        " %cd pyrouge/tools/ROUGE-1.5.5/data/ \n",
        "!rm WordNet-2.0.exc.db \n",
        "!chmod 755 -R WordNet-2.0-Exceptions\n",
        "! WordNet-2.0-Exceptions/buildExeptionDB.pl ./WordNet-2.0-Exceptions smart_common_words.txt ./WordNet-2.0.exc.db \n",
        "!ls  \n",
        "%cd .. \n",
        "%cd .. \n",
        "%cd .. \n",
        "%cd ..\n"
      ]
    },
    {
      "cell_type": "code",
      "execution_count": null,
      "metadata": {
        "id": "i7KsVJQo7-e9"
      },
      "outputs": [],
      "source": [
        "from pyrouge import Rouge155 \n",
        "from multiprocessing import Pool\n",
        "import os \n",
        "\n",
        "methods=['BertSum']  #per ogni modello di cui si vogliono testare i risultati serve una cartella con il nome del modello, con dentro un riassunto per ogni file \n",
        "                     # i riassunti vanno formattati con un \"a capo\" dopo ogni sentence, dentro la lista methods va semplicemente il nome della cartella,\n",
        "                     #\"parsed_slides_clean\" e la cartella contenente la ground truth, anche li un file per ogni documento formattato con un \"a capo\" dopo ogni sentence \n",
        "                     #il nome del file contente il riassunto deve essere uguale a quello del file contenente la gt, lo script potrebbe crashare se i file sono vuoti o  \n",
        "                     #contengono caratteri particolari, questo è un bug intrinseco della libreria rouge155 e l'unica soluzione è eliminare i documenti che potrebbero causare problemi\n",
        "\n",
        "def calc_rouge(method): \n",
        "    r = Rouge155()  \n",
        "    r.system_dir = f'{method}'\n",
        "    r.model_dir = 'parsed_slides_clean'\n",
        "    r.system_filename_pattern = '(\\w+).txt'\n",
        "    r.model_filename_pattern = '#ID#.txt'\n",
        "    output = r.convert_and_evaluate()\n",
        "    output_dict = r.output_to_dict(output) \n",
        "    with open(f'{method}_stats_test_set.txt', 'w') as f:\n",
        "        print(f'{method} on ARXIV TEST TEST',file=f)\n",
        "        print(output,file=f) \n",
        "        print(output_dict,file=f)\n",
        "\n",
        "\n",
        "pool = Pool(os.cpu_count())                       # Create a multiprocessing Pool\n",
        "pool.map(calc_rouge, methods)"
      ]
    },
    {
      "cell_type": "code",
      "execution_count": null,
      "metadata": {
        "colab": {
          "base_uri": "https://localhost:8080/"
        },
        "id": "qpVia-OoJ_A_",
        "outputId": "90d359b7-2e00-4a04-f798-f76cee7f8fa1"
      },
      "outputs": [
        {
          "name": "stdout",
          "output_type": "stream",
          "text": [
            "{'rouge_1_recall': 0.30016, 'rouge_1_recall_cb': 0.29713, 'rouge_1_recall_ce': 0.3032, 'rouge_1_precision': 0.40216, 'rouge_1_precision_cb': 0.39751, 'rouge_1_precision_ce': 0.40688, 'rouge_1_f_score': 0.30713, 'rouge_1_f_score_cb': 0.30488, 'rouge_1_f_score_ce': 0.30936, 'rouge_2_recall': 0.07616, 'rouge_2_recall_cb': 0.07495, 'rouge_2_recall_ce': 0.07745, 'rouge_2_precision': 0.10673, 'rouge_2_precision_cb': 0.10486, 'rouge_2_precision_ce': 0.10866, 'rouge_2_f_score': 0.07914, 'rouge_2_f_score_cb': 0.078, 'rouge_2_f_score_ce': 0.08027, 'rouge_3_recall': 0.02678, 'rouge_3_recall_cb': 0.02603, 'rouge_3_recall_ce': 0.0276, 'rouge_3_precision': 0.03956, 'rouge_3_precision_cb': 0.0384, 'rouge_3_precision_ce': 0.04078, 'rouge_3_f_score': 0.02841, 'rouge_3_f_score_cb': 0.02768, 'rouge_3_f_score_ce': 0.02915, 'rouge_4_recall': 0.01328, 'rouge_4_recall_cb': 0.01273, 'rouge_4_recall_ce': 0.01386, 'rouge_4_precision': 0.02092, 'rouge_4_precision_cb': 0.01998, 'rouge_4_precision_ce': 0.02193, 'rouge_4_f_score': 0.0145, 'rouge_4_f_score_cb': 0.01392, 'rouge_4_f_score_ce': 0.01507, 'rouge_l_recall': 0.19382, 'rouge_l_recall_cb': 0.19164, 'rouge_l_recall_ce': 0.19592, 'rouge_l_precision': 0.2533, 'rouge_l_precision_cb': 0.25045, 'rouge_l_precision_ce': 0.2562, 'rouge_l_f_score': 0.19462, 'rouge_l_f_score_cb': 0.19326, 'rouge_l_f_score_ce': 0.196, 'rouge_w_1.2_recall': 0.03464, 'rouge_w_1.2_recall_cb': 0.03386, 'rouge_w_1.2_recall_ce': 0.03547, 'rouge_w_1.2_precision': 0.13554, 'rouge_w_1.2_precision_cb': 0.13418, 'rouge_w_1.2_precision_ce': 0.13699, 'rouge_w_1.2_f_score': 0.04689, 'rouge_w_1.2_f_score_cb': 0.04638, 'rouge_w_1.2_f_score_ce': 0.04738, 'rouge_s*_recall': 0.10087, 'rouge_s*_recall_cb': 0.09894, 'rouge_s*_recall_ce': 0.10279, 'rouge_s*_precision': 0.19116, 'rouge_s*_precision_cb': 0.18745, 'rouge_s*_precision_ce': 0.19527, 'rouge_s*_f_score': 0.09392, 'rouge_s*_f_score_cb': 0.09258, 'rouge_s*_f_score_ce': 0.09527, 'rouge_su*_recall': 0.10219, 'rouge_su*_recall_cb': 0.10026, 'rouge_su*_recall_ce': 0.10413, 'rouge_su*_precision': 0.19229, 'rouge_su*_precision_cb': 0.18858, 'rouge_su*_precision_ce': 0.19641, 'rouge_su*_f_score': 0.09481, 'rouge_su*_f_score_cb': 0.09346, 'rouge_su*_f_score_ce': 0.09616}\n"
          ]
        }
      ],
      "source": [
        "print(output_dict)"
      ]
    },
    {
      "cell_type": "code",
      "execution_count": null,
      "metadata": {
        "colab": {
          "base_uri": "https://localhost:8080/"
        },
        "id": "WiUU1salxeZC",
        "outputId": "2aeb7a80-205c-4108-f4b2-f1e03ceaeffc"
      },
      "outputs": [
        {
          "name": "stdout",
          "output_type": "stream",
          "text": [
            "---------------------------------------------\n",
            "1 ROUGE-1 Average_R: 0.30016 (95%-conf.int. 0.29713 - 0.30320)\n",
            "1 ROUGE-1 Average_P: 0.40216 (95%-conf.int. 0.39751 - 0.40688)\n",
            "1 ROUGE-1 Average_F: 0.30713 (95%-conf.int. 0.30488 - 0.30936)\n",
            "---------------------------------------------\n",
            "1 ROUGE-2 Average_R: 0.07616 (95%-conf.int. 0.07495 - 0.07745)\n",
            "1 ROUGE-2 Average_P: 0.10673 (95%-conf.int. 0.10486 - 0.10866)\n",
            "1 ROUGE-2 Average_F: 0.07914 (95%-conf.int. 0.07800 - 0.08027)\n",
            "---------------------------------------------\n",
            "1 ROUGE-3 Average_R: 0.02678 (95%-conf.int. 0.02603 - 0.02760)\n",
            "1 ROUGE-3 Average_P: 0.03956 (95%-conf.int. 0.03840 - 0.04078)\n",
            "1 ROUGE-3 Average_F: 0.02841 (95%-conf.int. 0.02768 - 0.02915)\n",
            "---------------------------------------------\n",
            "1 ROUGE-4 Average_R: 0.01328 (95%-conf.int. 0.01273 - 0.01386)\n",
            "1 ROUGE-4 Average_P: 0.02092 (95%-conf.int. 0.01998 - 0.02193)\n",
            "1 ROUGE-4 Average_F: 0.01450 (95%-conf.int. 0.01392 - 0.01507)\n",
            "---------------------------------------------\n",
            "1 ROUGE-L Average_R: 0.19382 (95%-conf.int. 0.19164 - 0.19592)\n",
            "1 ROUGE-L Average_P: 0.25330 (95%-conf.int. 0.25045 - 0.25620)\n",
            "1 ROUGE-L Average_F: 0.19462 (95%-conf.int. 0.19326 - 0.19600)\n",
            "---------------------------------------------\n",
            "1 ROUGE-W-1.2 Average_R: 0.03464 (95%-conf.int. 0.03386 - 0.03547)\n",
            "1 ROUGE-W-1.2 Average_P: 0.13554 (95%-conf.int. 0.13418 - 0.13699)\n",
            "1 ROUGE-W-1.2 Average_F: 0.04689 (95%-conf.int. 0.04638 - 0.04738)\n",
            "---------------------------------------------\n",
            "1 ROUGE-S* Average_R: 0.10087 (95%-conf.int. 0.09894 - 0.10279)\n",
            "1 ROUGE-S* Average_P: 0.19116 (95%-conf.int. 0.18745 - 0.19527)\n",
            "1 ROUGE-S* Average_F: 0.09392 (95%-conf.int. 0.09258 - 0.09527)\n",
            "---------------------------------------------\n",
            "1 ROUGE-SU* Average_R: 0.10219 (95%-conf.int. 0.10026 - 0.10413)\n",
            "1 ROUGE-SU* Average_P: 0.19229 (95%-conf.int. 0.18858 - 0.19641)\n",
            "1 ROUGE-SU* Average_F: 0.09481 (95%-conf.int. 0.09346 - 0.09616)\n",
            "\n"
          ]
        }
      ],
      "source": [
        "print(output)"
      ]
    }
  ],
  "metadata": {
    "colab": {
      "collapsed_sections": [],
      "name": "Untitled6.ipynb",
      "provenance": [],
      "authorship_tag": "ABX9TyMcJ3Tx28f0+9tX6KpIbCgl",
      "include_colab_link": true
    },
    "kernelspec": {
      "display_name": "Python 3",
      "name": "python3"
    },
    "language_info": {
      "name": "python"
    }
  },
  "nbformat": 4,
  "nbformat_minor": 0
}